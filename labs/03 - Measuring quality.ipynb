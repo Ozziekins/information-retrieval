{
 "cells": [
  {
   "cell_type": "markdown",
   "id": "1b1f94b9-7b73-4748-9286-d786a69bdf71",
   "metadata": {},
   "source": [
    "# 1. Assessor and analyst work\n",
    "\n",
    "## 1.0. Rating and criteria\n",
    "\n",
    "Please [open this document](https://static.googleusercontent.com/media/guidelines.raterhub.com/en//searchqualityevaluatorguidelines.pdf)\n",
    "and study chapters 13.0-13.4. Your task will be to assess the organic answers of search engines given the same query.\n",
    "\n",
    "## 1.1. Explore the page\n",
    "\n",
    "For the following search engines:\n",
    "- https://duckduckgo.com/\n",
    "- https://www.bing.com/\n",
    "- https://ya.ru/\n",
    "- https://www.google.com/\n",
    "\n",
    "Perform the same query: \"**How to get from Kazan to Voronezh**\".\n",
    "\n",
    "Discuss with your TA the following:\n",
    "1. Which elements you may identify at SERP? Ads, snippets, blends from other sources, ...?\n",
    "2. Where are organic results? How many of them are there?\n",
    "\n",
    "## 1.2. Rate the results of the search engine\n",
    "\n",
    "If there are many of you in the group, assess all search engines, otherwise choose 1 or 2. There should be no less than 5 of your for each search engine. Use the scale from the handbook, use 0..4 numerical equivalents for `[FailsM, SM, MM, HM, FullyM]`. \n",
    "\n",
    "Compute:\n",
    "- average relevance and standard deviation for each SERP element.\n",
    "- [Fleiss kappa score](https://en.wikipedia.org/wiki/Fleiss%27_kappa#Worked_example) for your group. Use [this implementation](https://www.statsmodels.org/dev/generated/statsmodels.stats.inter_rater.fleiss_kappa.html).\n",
    "- [Kendall rank coefficient](https://en.wikipedia.org/wiki/Kendall_rank_correlation_coefficient) for some pairs in your group. Use [this implementation](https://docs.scipy.org/doc/scipy/reference/generated/scipy.stats.kendalltau.html).\n",
    "\n",
    "Discuss numerical results. Did you agree on the relevance? Did you agree on the rank? What is the difference?"
   ]
  },
  {
   "cell_type": "code",
   "execution_count": 8,
   "id": "3c3738c6-ed54-4113-b75a-cba812c5aade",
   "metadata": {},
   "outputs": [],
   "source": [
    "import numpy as np\n",
    "# example input by users\n",
    "# 0 - fails to meet\n",
    "# 1 - slightly meets\n",
    "# 2 - moderately meets\n",
    "# 3 - highly meets\n",
    "# 4 - fully meets\n",
    "\n",
    "ranking_data = np.array([\n",
    "    [4, 3, 4, 0, 1, 1, 1, 0, 1, 1, 1, 0], # assessor 1 relevance\n",
    "    [4, 3, 3, 0, 2, 1, 1, 1, 2, 1, 1, 1], # 2\n",
    "    [4, 4, 3, 4, 4, 3, 3, 3, 2, 2, 2, 2],\n",
    "    [4, 4, 4, 4, 2, 3, 3, 2, 3, 3, 3, 1],\n",
    "    [4, 4, 4, 4, 2, 2, 2, 4, 2, 2, 2, 3],\n",
    "    [3, 3, 3, 3, 2, 2, 2, 3, 2, 2, 2, 3],\n",
    "    [1, 4, 4, 1, 2, 2, 2, 1, 2, 2, 2, 0],\n",
    "    [1, 3, 4, 4, 2, 2, 2, 2, 2, 1, 1, 1],\n",
    "    [4, 3, 4, 3, 3, 2, 2, 2, 1, 0, 1, 0],\n",
    "    [3, 3, 4 ,3, 4, 3 ,4 ,3 ,2, 4 ,2, 0],\n",
    "    [1, 4, 4, 1, 1, 2, 2, 1, 2, 2, 2, 0],\n",
    "    [1, 4, 3, 1, 4, 3, 1, 3, 3, 3, 3, 2]\n",
    "])"
   ]
  },
  {
   "cell_type": "markdown",
   "id": "32a88b0e-5ece-404c-9fc2-82c4d1bb3281",
   "metadata": {},
   "source": [
    "Averages and standard deviations per item."
   ]
  },
  {
   "cell_type": "code",
   "execution_count": 10,
   "id": "59c53e3e-120f-45ec-94c1-f02d061f0177",
   "metadata": {},
   "outputs": [
    {
     "name": "stdout",
     "output_type": "stream",
     "text": [
      "0 relevance 1.42 ± 1.382\n",
      "1 relevance 1.67 ± 1.106\n",
      "2 relevance 3.00 ± 0.816\n",
      "3 relevance 3.00 ± 0.913\n",
      "4 relevance 2.92 ± 0.954\n",
      "5 relevance 2.50 ± 0.500\n",
      "6 relevance 1.92 ± 1.115\n",
      "7 relevance 2.08 ± 1.037\n",
      "8 relevance 2.08 ± 1.320\n",
      "9 relevance 2.92 ± 1.115\n",
      "10 relevance 1.83 ± 1.143\n",
      "11 relevance 2.58 ± 1.037\n"
     ]
    }
   ],
   "source": [
    "# TODO your code here\n",
    "for i, row in enumerate(ranking_data):\n",
    "    avg = np.mean(row, axis=0)\n",
    "    std = np.std(row, axis=0)\n",
    "    print(f\"{i} relevance {avg:.2f} ± {std:.3f}\")"
   ]
  },
  {
   "cell_type": "markdown",
   "id": "70a88642-87aa-42c1-b913-83eb9b22d973",
   "metadata": {},
   "source": [
    "Fleiss kappa score"
   ]
  },
  {
   "cell_type": "code",
   "execution_count": null,
   "id": "06e63c2c-090d-4da1-b0b8-45ec2538e635",
   "metadata": {
    "pycharm": {
     "is_executing": true
    }
   },
   "outputs": [],
   "source": [
    "!pip install statsmodels"
   ]
  },
  {
   "cell_type": "code",
   "execution_count": 13,
   "id": "6cb6cbb6-7768-42f0-aed3-215488d15bc2",
   "metadata": {},
   "outputs": [
    {
     "name": "stdout",
     "output_type": "stream",
     "text": [
      "Agreement matrix:\n",
      " [[0 4 0 2 6]\n",
      " [0 0 0 6 6]\n",
      " [0 0 0 4 8]\n",
      " [2 3 0 3 4]\n",
      " [0 2 6 1 3]\n",
      " [0 2 6 4 0]\n",
      " [0 3 6 2 1]\n",
      " [1 3 3 4 1]\n",
      " [0 2 8 2 0]\n",
      " [1 3 5 2 1]\n",
      " [0 4 6 2 0]\n",
      " [5 3 2 2 0]]\n",
      "Categories: [0 1 2 3 4]\n",
      "Kappa: 0.11603214841929356\n"
     ]
    }
   ],
   "source": [
    "from statsmodels.stats.inter_rater import aggregate_raters, fleiss_kappa\n",
    "\n",
    "# TODO your code here\n",
    "agrmnt, cats = aggregate_raters(data=ranking_data.T, n_cat=5)\n",
    "kappa = fleiss_kappa(table=agrmnt)\n",
    "\n",
    "print(f\"Agreement matrix:\\n {agrmnt}\")\n",
    "print(f\"Categories: {cats}\")\n",
    "print(f\"Kappa: {kappa}\")"
   ]
  },
  {
   "cell_type": "markdown",
   "id": "3bd6069e-e8a1-4483-b1f2-bf5f4e982283",
   "metadata": {},
   "source": [
    "Kendall tau score is pairwise. Compare one to another."
   ]
  },
  {
   "cell_type": "code",
   "execution_count": 21,
   "id": "6e7f5f22-74a4-47cd-848a-09c8e1abb39c",
   "metadata": {},
   "outputs": [
    {
     "name": "stdout",
     "output_type": "stream",
     "text": [
      "SignificanceResult(statistic=1.0, pvalue=0.00014831835432048583)\n",
      "SignificanceResult(statistic=0.7918385252742848, pvalue=0.002308899433177536)\n",
      "SignificanceResult(statistic=0.23159177829329275, pvalue=0.3839276075670829)\n",
      "SignificanceResult(statistic=0.6042978219198488, pvalue=0.021505202991850325)\n",
      "SignificanceResult(statistic=0.0683408533502272, pvalue=0.8024346036598436)\n",
      "SignificanceResult(statistic=0.0, pvalue=1.0)\n",
      "SignificanceResult(statistic=0.6382978723404256, pvalue=0.015451580464168668)\n",
      "SignificanceResult(statistic=0.10418927964135326, pvalue=0.6918258173005736)\n",
      "SignificanceResult(statistic=0.48300725250494714, pvalue=0.056657117526651785)\n",
      "SignificanceResult(statistic=0.31256783892405976, pvalue=0.23438633928570252)\n",
      "SignificanceResult(statistic=0.6042978219198488, pvalue=0.021505202991850325)\n",
      "SignificanceResult(statistic=0.2127659574468085, pvalue=0.4195477953373796)\n",
      "SignificanceResult(statistic=0.7918385252742848, pvalue=0.002308899433177536)\n",
      "SignificanceResult(statistic=1.0, pvalue=9.489501345182904e-05)\n",
      "SignificanceResult(statistic=0.26805548212375485, pvalue=0.30662328372568115)\n",
      "SignificanceResult(statistic=0.30612244897959184, pvalue=0.23747081996660624)\n",
      "SignificanceResult(statistic=0.2231053741265801, pvalue=0.40723581004713105)\n",
      "SignificanceResult(statistic=0.19047619047619047, pvalue=0.4924272699829009)\n",
      "SignificanceResult(statistic=0.41675711856541303, pvalue=0.10874626493065209)\n",
      "SignificanceResult(statistic=0.10204081632653061, pvalue=0.6937454158244126)\n",
      "SignificanceResult(statistic=0.45412537956515786, pvalue=0.06919531506509481)\n",
      "SignificanceResult(statistic=0.12244897959183673, pvalue=0.6365465068703015)\n",
      "SignificanceResult(statistic=0.30612244897959184, pvalue=0.23747081996660624)\n",
      "SignificanceResult(statistic=0.3334056948523304, pvalue=0.19946296265989716)\n",
      "SignificanceResult(statistic=0.23159177829329272, pvalue=0.3839276075670829)\n",
      "SignificanceResult(statistic=0.2680554821237548, pvalue=0.30662328372568115)\n",
      "SignificanceResult(statistic=1.0, pvalue=0.00019501617590114595)\n",
      "SignificanceResult(statistic=0.4123930494211613, pvalue=0.1200071015705932)\n",
      "SignificanceResult(statistic=0.47337655820040203, pvalue=0.085965885357202)\n",
      "SignificanceResult(statistic=0.3849001794597506, pvalue=0.17573433564422514)\n",
      "SignificanceResult(statistic=0.04210759605332595, pvalue=0.8742157707714907)\n",
      "SignificanceResult(statistic=0.4742520068343355, pvalue=0.07378321086962723)\n",
      "SignificanceResult(statistic=0.7838370907244194, pvalue=0.0021717721502607897)\n",
      "SignificanceResult(statistic=0.309294787065871, pvalue=0.24359106061117786)\n",
      "SignificanceResult(statistic=-0.08247860988423227, pvalue=0.7558395773333851)\n",
      "SignificanceResult(statistic=0.021053798026662976, pvalue=0.9369109733977699)\n",
      "SignificanceResult(statistic=0.6042978219198489, pvalue=0.021505202991850325)\n",
      "SignificanceResult(statistic=0.30612244897959184, pvalue=0.23747081996660624)\n",
      "SignificanceResult(statistic=0.4123930494211613, pvalue=0.1200071015705932)\n",
      "SignificanceResult(statistic=1.0, pvalue=0.00013620492529630863)\n",
      "SignificanceResult(statistic=0.4015896734278442, pvalue=0.1403759205669056)\n",
      "SignificanceResult(statistic=0.30952380952380953, pvalue=0.27033769807011965)\n",
      "SignificanceResult(statistic=0.37508140670887175, pvalue=0.153590665047749)\n",
      "SignificanceResult(statistic=0.40816326530612246, pvalue=0.1194404350639043)\n",
      "SignificanceResult(statistic=0.5298129428260175, pvalue=0.03605409609581205)\n",
      "SignificanceResult(statistic=0.1836734693877551, pvalue=0.48348591050038314)\n",
      "SignificanceResult(statistic=0.5102040816326531, pvalue=0.05160572211000249)\n",
      "SignificanceResult(statistic=-0.14586499149789456, pvalue=0.5789426001377906)\n",
      "SignificanceResult(statistic=0.0683408533502272, pvalue=0.8024346036598436)\n",
      "SignificanceResult(statistic=0.2231053741265801, pvalue=0.40723581004713105)\n",
      "SignificanceResult(statistic=0.473376558200402, pvalue=0.085965885357202)\n",
      "SignificanceResult(statistic=0.4015896734278442, pvalue=0.1403759205669056)\n",
      "SignificanceResult(statistic=1.0, pvalue=0.00041477236253173786)\n",
      "SignificanceResult(statistic=0.9370425713316365, pvalue=0.0013406411172294783)\n",
      "SignificanceResult(statistic=-0.15946199115053014, pvalue=0.5593587732116929)\n",
      "SignificanceResult(statistic=0.35696859860252816, pvalue=0.1900026800313126)\n",
      "SignificanceResult(statistic=0.4964572822704727, pvalue=0.058502954424679)\n",
      "SignificanceResult(statistic=-0.04462107482531602, pvalue=0.8698717460862889)\n",
      "SignificanceResult(statistic=-0.08924214965063204, pvalue=0.743181759923146)\n",
      "SignificanceResult(statistic=-0.18224227560060588, pvalue=0.5046486162586068)\n",
      "SignificanceResult(statistic=0.0, pvalue=1.0)\n",
      "SignificanceResult(statistic=0.19047619047619047, pvalue=0.4924272699829009)\n",
      "SignificanceResult(statistic=0.3849001794597505, pvalue=0.17573433564422514)\n",
      "SignificanceResult(statistic=0.3095238095238095, pvalue=0.27033769807011965)\n",
      "SignificanceResult(statistic=0.9370425713316364, pvalue=0.0013406411172294783)\n",
      "SignificanceResult(statistic=1.0, pvalue=0.0009111188771537105)\n",
      "SignificanceResult(statistic=-0.2917299829957891, pvalue=0.3002303493592946)\n",
      "SignificanceResult(statistic=0.2857142857142857, pvalue=0.30891846698495573)\n",
      "SignificanceResult(statistic=0.41943524640393054, pvalue=0.12081938653567083)\n",
      "SignificanceResult(statistic=-0.16666666666666669, pvalue=0.5528210333857276)\n",
      "SignificanceResult(statistic=-0.21428571428571427, pvalue=0.4453915182177589)\n",
      "SignificanceResult(statistic=-0.21879748724684184, pvalue=0.43718552348326645)\n",
      "SignificanceResult(statistic=0.6382978723404256, pvalue=0.015451580464168668)\n",
      "SignificanceResult(statistic=0.41675711856541303, pvalue=0.10874626493065209)\n",
      "SignificanceResult(statistic=0.04210759605332595, pvalue=0.8742157707714907)\n",
      "SignificanceResult(statistic=0.37508140670887175, pvalue=0.153590665047749)\n",
      "SignificanceResult(statistic=-0.15946199115053014, pvalue=0.5593587732116929)\n",
      "SignificanceResult(statistic=-0.2917299829957891, pvalue=0.3002303493592946)\n",
      "SignificanceResult(statistic=1.0, pvalue=0.00014831835432048583)\n",
      "SignificanceResult(statistic=0.3959192626371424, pvalue=0.13200600122021647)\n",
      "SignificanceResult(statistic=0.19320290100197884, pvalue=0.4458340201825741)\n",
      "SignificanceResult(statistic=0.3959192626371424, pvalue=0.13200600122021647)\n",
      "SignificanceResult(statistic=0.9168656608439087, pvalue=0.0004864099080776079)\n",
      "SignificanceResult(statistic=0.5319148936170213, pvalue=0.043589692739597743)\n",
      "SignificanceResult(statistic=0.10418927964135326, pvalue=0.6918258173005736)\n",
      "SignificanceResult(statistic=0.10204081632653061, pvalue=0.6937454158244126)\n",
      "SignificanceResult(statistic=0.47425200683433544, pvalue=0.07378321086962723)\n",
      "SignificanceResult(statistic=0.40816326530612246, pvalue=0.1194404350639043)\n",
      "SignificanceResult(statistic=0.35696859860252816, pvalue=0.1900026800313126)\n",
      "SignificanceResult(statistic=0.2857142857142857, pvalue=0.30891846698495573)\n",
      "SignificanceResult(statistic=0.3959192626371424, pvalue=0.13200600122021647)\n",
      "SignificanceResult(statistic=1.0, pvalue=0.00013620492529630863)\n",
      "SignificanceResult(statistic=0.5676567244564473, pvalue=0.024700566548654688)\n",
      "SignificanceResult(statistic=0.2857142857142857, pvalue=0.27571816261823723)\n",
      "SignificanceResult(statistic=0.3469387755102041, pvalue=0.18565001645567858)\n",
      "SignificanceResult(statistic=0.1667028474261652, pvalue=0.5259466432380486)\n",
      "SignificanceResult(statistic=0.48300725250494714, pvalue=0.056657117526651785)\n",
      "SignificanceResult(statistic=0.45412537956515786, pvalue=0.06919531506509481)\n",
      "SignificanceResult(statistic=0.7838370907244193, pvalue=0.0021717721502607897)\n",
      "SignificanceResult(statistic=0.5298129428260175, pvalue=0.03605409609581205)\n",
      "SignificanceResult(statistic=0.4964572822704727, pvalue=0.058502954424679)\n",
      "SignificanceResult(statistic=0.41943524640393054, pvalue=0.12081938653567083)\n",
      "SignificanceResult(statistic=0.19320290100197884, pvalue=0.4458340201825741)\n",
      "SignificanceResult(statistic=0.5676567244564473, pvalue=0.024700566548654688)\n",
      "SignificanceResult(statistic=1.0, pvalue=4.124232110140116e-05)\n",
      "SignificanceResult(statistic=0.39735970711951313, pvalue=0.11589545586049481)\n",
      "SignificanceResult(statistic=0.09460945407607456, pvalue=0.708149673785395)\n",
      "SignificanceResult(statistic=0.019320290100197885, pvalue=0.9392298551225354)\n",
      "SignificanceResult(statistic=0.31256783892405976, pvalue=0.23438633928570252)\n",
      "SignificanceResult(statistic=0.12244897959183673, pvalue=0.6365465068703015)\n",
      "SignificanceResult(statistic=0.30929478706587094, pvalue=0.24359106061117786)\n",
      "SignificanceResult(statistic=0.1836734693877551, pvalue=0.48348591050038314)\n",
      "SignificanceResult(statistic=-0.04462107482531602, pvalue=0.8698717460862889)\n",
      "SignificanceResult(statistic=-0.16666666666666666, pvalue=0.5528210333857276)\n",
      "SignificanceResult(statistic=0.3959192626371424, pvalue=0.13200600122021647)\n",
      "SignificanceResult(statistic=0.2857142857142857, pvalue=0.27571816261823723)\n",
      "SignificanceResult(statistic=0.39735970711951313, pvalue=0.11589545586049481)\n",
      "SignificanceResult(statistic=1.0, pvalue=0.00013620492529630863)\n",
      "SignificanceResult(statistic=0.2653061224489796, pvalue=0.3114748109140667)\n",
      "SignificanceResult(statistic=0.12502713556962392, pvalue=0.6343207467263747)\n",
      "SignificanceResult(statistic=0.6042978219198489, pvalue=0.021505202991850325)\n",
      "SignificanceResult(statistic=0.30612244897959184, pvalue=0.23747081996660624)\n",
      "SignificanceResult(statistic=-0.08247860988423225, pvalue=0.7558395773333851)\n",
      "SignificanceResult(statistic=0.5102040816326531, pvalue=0.05160572211000249)\n",
      "SignificanceResult(statistic=-0.08924214965063204, pvalue=0.743181759923146)\n",
      "SignificanceResult(statistic=-0.2142857142857143, pvalue=0.4453915182177589)\n",
      "SignificanceResult(statistic=0.9168656608439086, pvalue=0.0004864099080776079)\n",
      "SignificanceResult(statistic=0.3469387755102041, pvalue=0.18565001645567858)\n",
      "SignificanceResult(statistic=0.09460945407607456, pvalue=0.708149673785395)\n",
      "SignificanceResult(statistic=0.2653061224489796, pvalue=0.3114748109140667)\n",
      "SignificanceResult(statistic=1.0, pvalue=0.00013620492529630863)\n",
      "SignificanceResult(statistic=0.35424355078060105, pvalue=0.1777590965723923)\n",
      "SignificanceResult(statistic=0.2127659574468085, pvalue=0.4195477953373796)\n",
      "SignificanceResult(statistic=0.3334056948523304, pvalue=0.19946296265989716)\n",
      "SignificanceResult(statistic=0.021053798026662976, pvalue=0.9369109733977699)\n",
      "SignificanceResult(statistic=-0.14586499149789459, pvalue=0.5789426001377906)\n",
      "SignificanceResult(statistic=-0.18224227560060588, pvalue=0.5046486162586068)\n",
      "SignificanceResult(statistic=-0.21879748724684187, pvalue=0.43718552348326645)\n",
      "SignificanceResult(statistic=0.5319148936170213, pvalue=0.043589692739597743)\n",
      "SignificanceResult(statistic=0.1667028474261652, pvalue=0.5259466432380486)\n",
      "SignificanceResult(statistic=0.019320290100197885, pvalue=0.9392298551225354)\n",
      "SignificanceResult(statistic=0.12502713556962392, pvalue=0.6343207467263747)\n",
      "SignificanceResult(statistic=0.35424355078060105, pvalue=0.1777590965723923)\n",
      "SignificanceResult(statistic=1.0, pvalue=0.00014831835432048583)\n"
     ]
    }
   ],
   "source": [
    "from scipy.stats import kendalltau\n",
    "\n",
    "# TODO your code here\n",
    "for i in range(len(ranking_data)):\n",
    "    for j in range(len(ranking_data)):\n",
    "        print(kendalltau(ranking_data[i], ranking_data[j]))"
   ]
  },
  {
   "cell_type": "code",
   "execution_count": null,
   "outputs": [],
   "source": [
    "import seaborn as sns\n",
    "\n",
    "sns.pairplot()"
   ],
   "metadata": {
    "collapsed": false
   }
  },
  {
   "cell_type": "markdown",
   "id": "9eed044a-9a49-432d-b7a6-7591087d0de7",
   "metadata": {},
   "source": [
    "# 2. Engineer work\n",
    "\n",
    "You will create a bucket of URLs which are relevant for the query **\"free cloud git\"**. Then you will automate the search procedure using https://serpapi.com/, or https://developers.google.com/custom-search/v1/overview, or whatever.\n",
    "\n",
    "Then you will compute MRR@10 and Precision@10.\n",
    "\n",
    "## 2.1. Build your bucket here"
   ]
  },
  {
   "cell_type": "code",
   "execution_count": 22,
   "id": "e11aa566-0ab3-48d7-959c-ab6cb875d7ac",
   "metadata": {},
   "outputs": [],
   "source": [
    "rel_bucket = [\n",
    "    \"github.com\",\n",
    "    \"gitpod.io\",\n",
    "    \"gitflic.ru\",\n",
    "    \"git-scm.com\",\n",
    "    \"gitlab.com\",\n",
    "    \"git-tower.com\",\n",
    "    \"azure.microsoft.com\",\n",
    "    \"gitea.io\",\n",
    "]\n",
    "\n",
    "query = \"free git cloud\""
   ]
  },
  {
   "cell_type": "markdown",
   "id": "d501aa5e-7051-4039-930b-b293c49721e1",
   "metadata": {},
   "source": [
    "## 2.2. Relevance assessment\n",
    "\n",
    "Write the code to check that the obtained document is relevant (True) or not (False)."
   ]
  },
  {
   "cell_type": "code",
   "execution_count": 25,
   "outputs": [
    {
     "name": "stdout",
     "output_type": "stream",
     "text": [
      "{'search_metadata': {'id': '63e9f82ad5a531b7621ac076', 'status': 'Success', 'json_endpoint': 'https://serpapi.com/searches/3ff401fc84e9a74c/63e9f82ad5a531b7621ac076.json', 'created_at': '2023-02-13 08:43:22 UTC', 'processed_at': '2023-02-13 08:43:22 UTC', 'google_url': 'https://www.google.com/search?q=free+git+cloud&oq=free+git+cloud&gl=us&sourceid=chrome&ie=UTF-8', 'raw_html_file': 'https://serpapi.com/searches/3ff401fc84e9a74c/63e9f82ad5a531b7621ac076.html', 'total_time_taken': 5.76}, 'search_parameters': {'engine': 'google', 'q': 'free git cloud', 'google_domain': 'google.com', 'hl': 'en', 'gl': 'us', 'device': 'desktop'}, 'search_information': {'organic_results_state': 'Results for exact spelling', 'query_displayed': 'free git cloud', 'total_results': 43800000, 'time_taken_displayed': 0.39, 'menu_items': [{'position': 1, 'title': 'All'}, {'position': 2, 'title': 'Images', 'link': 'https://www.google.com/search?q=free+git+cloud&ucbcb=1&gl=us&source=lnms&tbm=isch&sa=X&ved=2ahUKEwiY36C6jZL9AhX5rlYBHQTNB2AQ_AUoAXoECAEQAw', 'serpapi_link': 'https://serpapi.com/search.json?device=desktop&engine=google&gl=us&google_domain=google.com&hl=en&q=free+git+cloud&tbm=isch'}, {'position': 3, 'title': 'Videos', 'link': 'https://www.google.com/search?q=free+git+cloud&ucbcb=1&gl=us&source=lnms&tbm=vid&sa=X&ved=2ahUKEwiY36C6jZL9AhX5rlYBHQTNB2AQ_AUoAnoECAEQBA', 'serpapi_link': 'https://serpapi.com/search.json?device=desktop&engine=google&gl=us&google_domain=google.com&hl=en&q=free+git+cloud&tbm=vid'}, {'position': 4, 'title': 'News', 'link': 'https://www.google.com/search?q=free+git+cloud&ucbcb=1&gl=us&source=lnms&tbm=nws&sa=X&ved=2ahUKEwiY36C6jZL9AhX5rlYBHQTNB2AQ_AUoA3oECAEQBQ', 'serpapi_link': 'https://serpapi.com/search.json?device=desktop&engine=google&gl=us&google_domain=google.com&hl=en&q=free+git+cloud&tbm=nws'}, {'position': 5, 'title': 'Books', 'link': 'https://www.google.com/search?q=free+git+cloud&ucbcb=1&gl=us&source=lnms&tbm=bks&sa=X&ved=2ahUKEwiY36C6jZL9AhX5rlYBHQTNB2AQ_AUoBHoECAEQBg'}]}, 'inline_people_also_search_for': [{'title': 'Repo hosting services', 'items': [{'name': 'GitLab', 'image': 'https://encrypted-tbn0.gstatic.com/images?q=tbn:ANd9GcSknQGsUN5looAdKirpH8fhk0VMO1CksXO1W3hc&s=0', 'link': 'https://www.google.com/search?ucbcb=1&gl=us&q=GitLab&stick=H4sIAAAAAAAAAOOQUeLWz9U3MDQyjTdJMzASLUotyFfIyC8uycxLVyhOLSrLTE4tjuJLK0pNVUjPLFFIzskvTTnFiKzpFCMXiGeaW2FWYAblGBUYlKQUnGLk1U_XNzRMyzM1Sk6vyoZKFuSmpSeVn2LkBHEsLIpzCqESJukG2cnlvxhFg7C5ooGFcRErm3tmiU9i0i02SYYmASkJl9VGHZ77_1syVfGsCL_0KL9JdL4XAJDQ7xvUAAAA&sa=X&ved=2ahUKEwiY36C6jZL9AhX5rlYBHQTNB2AQs9oBKAB6BAg8EAI', 'serpapi_link': 'https://serpapi.com/search.json?device=desktop&engine=google&gl=us&google_domain=google.com&hl=en&q=GitLab&stick=H4sIAAAAAAAAAOOQUeLWz9U3MDQyjTdJMzASLUotyFfIyC8uycxLVyhOLSrLTE4tjuJLK0pNVUjPLFFIzskvTTnFiKzpFCMXiGeaW2FWYAblGBUYlKQUnGLk1U_XNzRMyzM1Sk6vyoZKFuSmpSeVn2LkBHEsLIpzCqESJukG2cnlvxhFg7C5ooGFcRErm3tmiU9i0i02SYYmASkJl9VGHZ77_1syVfGsCL_0KL9JdL4XAJDQ7xvUAAAA'}, {'name': 'Bitbucket', 'image': 'https://encrypted-tbn0.gstatic.com/images?q=tbn:ANd9GcT4eUT7iNW8Q5QbeUKEbkQqC3XAsmhjjm862Q7H&s=0', 'link': 'https://www.google.com/search?ucbcb=1&gl=us&q=Bitbucket&stick=H4sIAAAAAAAAAOOQUeLSz9U3MM2tMCswMxItSi3IV8jILy7JzEtXKE4tKstMTi2O4ksrSk1VSM8sUUjOyS9NOcXIDdJjaGQab5JmcIoRyQQox6jAoCSl4BQjr366vqFhWp6pUXJ6VTZUsiA3LT2p_BQjJ4hjYVGcUwiVMEk3yE4u_8UoGoTNFQ0sjItYOZ0yS5JKk7NTS26xSTI0CUhJuKw26vDc_9-SqYpnRfilR_lNovO9AF3KsibWAAAA&sa=X&ved=2ahUKEwiY36C6jZL9AhX5rlYBHQTNB2AQs9oBKAF6BAg8EAM', 'serpapi_link': 'https://serpapi.com/search.json?device=desktop&engine=google&gl=us&google_domain=google.com&hl=en&q=Bitbucket&stick=H4sIAAAAAAAAAOOQUeLSz9U3MM2tMCswMxItSi3IV8jILy7JzEtXKE4tKstMTi2O4ksrSk1VSM8sUUjOyS9NOcXIDdJjaGQab5JmcIoRyQQox6jAoCSl4BQjr366vqFhWp6pUXJ6VTZUsiA3LT2p_BQjJ4hjYVGcUwiVMEk3yE4u_8UoGoTNFQ0sjItYOZ0yS5JKk7NTS26xSTI0CUhJuKw26vDc_9-SqYpnRfilR_lNovO9AF3KsibWAAAA'}, {'name': 'SourceFor...', 'image': 'https://encrypted-tbn0.gstatic.com/images?q=tbn:ANd9GcQ9ez1FoFBhzivfILNrHgKuxfB4RbFbuYo3XocK&s=0', 'link': 'https://www.google.com/search?ucbcb=1&gl=us&q=SourceForge&stick=H4sIAAAAAAAAAOOQUeLSz9U3MCowKEkpMBItSi3IV8jILy7JzEtXKE4tKstMTi2O4ksrSk1VSM8sUUjOyS9NOcXIDdJjaGQab5JmcIoRbIJpboVZgRmUAzHuFCOvfrq-oWFanqlRcnpVNlSyIDctPan8FCMniGNhUZxTCJUwSTfITi7_xSgahM0VDSyMi1i5g_NLi5JT3fKL0lNvsUkyNAlISbisNurw3P_fkqmKZ0X4pUf5TaLzvQC--ORk2AAAAA&sa=X&ved=2ahUKEwiY36C6jZL9AhX5rlYBHQTNB2AQs9oBKAJ6BAg8EAQ', 'serpapi_link': 'https://serpapi.com/search.json?device=desktop&engine=google&gl=us&google_domain=google.com&hl=en&q=SourceForge&stick=H4sIAAAAAAAAAOOQUeLSz9U3MCowKEkpMBItSi3IV8jILy7JzEtXKE4tKstMTi2O4ksrSk1VSM8sUUjOyS9NOcXIDdJjaGQab5JmcIoRbIJpboVZgRmUAzHuFCOvfrq-oWFanqlRcnpVNlSyIDctPan8FCMniGNhUZxTCJUwSTfITi7_xSgahM0VDSyMi1i5g_NLi5JT3fKL0lNvsUkyNAlISbisNurw3P_fkqmKZ0X4pUf5TaLzvQC--ORk2AAAAA'}, {'name': 'Gitea', 'image': 'https://encrypted-tbn0.gstatic.com/images?q=tbn:ANd9GcQrCp3HcYsxQENM49a9pk7J6IR9A96d5EqOTlZR&s=0', 'link': 'https://www.google.com/search?ucbcb=1&gl=us&q=Gitea&stick=H4sIAAAAAAAAAOOQUeLVT9c3NEzLMzVKTq_KNhItSi3IV8jILy7JzEtXKE4tKstMTi2O4ksrSk1VSM8sUUjOyS9NOcXIrZ-rb2BoZBpvkmZwipELxDPNrTArMINyjAoMSlIKTjGiGg-VLMhNS08qP8XICeJYWBTnFEIlTNINspPLfzGKBmFzRQML4yJWVvfMktTEW2ySDE0CUhIuq406PPf_t2Sq4lkRfulRfpPofC8A62eGUNUAAAA&sa=X&ved=2ahUKEwiY36C6jZL9AhX5rlYBHQTNB2AQs9oBKAN6BAg8EAU', 'serpapi_link': 'https://serpapi.com/search.json?device=desktop&engine=google&gl=us&google_domain=google.com&hl=en&q=Gitea&stick=H4sIAAAAAAAAAOOQUeLVT9c3NEzLMzVKTq_KNhItSi3IV8jILy7JzEtXKE4tKstMTi2O4ksrSk1VSM8sUUjOyS9NOcXIrZ-rb2BoZBpvkmZwipELxDPNrTArMINyjAoMSlIKTjGiGg-VLMhNS08qP8XICeJYWBTnFEIlTNINspPLfzGKBmFzRQML4yJWVvfMktTEW2ySDE0CUhIuq406PPf_t2Sq4lkRfulRfpPofC8A62eGUNUAAAA'}, {'name': 'AWS Elastic Beanstalk', 'image': 'https://encrypted-tbn0.gstatic.com/images?q=tbn:ANd9GcS3Yzq3q6x13T9kZ9QD9aXJUvzulNSgeJ-92ldy&s=0', 'link': 'https://www.google.com/search?ucbcb=1&gl=us&q=AWS+Elastic+Beanstalk&stick=H4sIAAAAAAAAAOOQUeLSz9U3KMhNS08qNxItSi3IV8jILy7JzEtXKE4tKstMTi2O4ksrSk1VSM8sUUjOyS9NOcXIDdJjaGQab5JmcIoRbIJpboVZgRmUY1RgUJJScIqRVz9d39AwLc_UKDm9KhsqCbHrFCMniGNhUZxTCJUwSTfITi7_xSgahM0VDSyMi1hFHcODFVxzEoFSyQpOqYl5xSWJOdm32CQZmgSkJFxWG3V47v9vyVTFsyL80qP8JtH5XgABjkd_4gAAAA&sa=X&ved=2ahUKEwiY36C6jZL9AhX5rlYBHQTNB2AQs9oBKAR6BAg8EAY', 'serpapi_link': 'https://serpapi.com/search.json?device=desktop&engine=google&gl=us&google_domain=google.com&hl=en&q=AWS+Elastic+Beanstalk&stick=H4sIAAAAAAAAAOOQUeLSz9U3KMhNS08qNxItSi3IV8jILy7JzEtXKE4tKstMTi2O4ksrSk1VSM8sUUjOyS9NOcXIDdJjaGQab5JmcIoRbIJpboVZgRmUY1RgUJJScIqRVz9d39AwLc_UKDm9KhsqCbHrFCMniGNhUZxTCJUwSTfITi7_xSgahM0VDSyMi1hFHcODFVxzEoFSyQpOqYl5xSWJOdm32CQZmgSkJFxWG3V47v9vyVTFsyL80qP8JtH5XgABjkd_4gAAAA'}, {'name': 'Launchpad', 'image': 'https://encrypted-tbn0.gstatic.com/images?q=tbn:ANd9GcRLbqEJxSW5bc_r-04Lm-izy6Epw9MRw61KUfrC&s=0', 'link': 'https://www.google.com/search?ucbcb=1&gl=us&q=Launchpad&stick=H4sIAAAAAAAAAOOQUeLUz9U3sLAozik0Ei1KLchXyMgvLsnMS1coTi0qy0xOLY7iSytKTVVIzyxRSM7JL005xcgN0mJoZBpvkmZwipELxDPNrTArMINyjAoMSlIKTjHy6qfrGxqm5ZkaJadXZUMlC3LT0pPKTzEi7IVKmKQbZCeX_2IUDcLmigYWxkWsnD6JpXnJGQWJKbfYJBmaBKQkXFYbdXju_2_JVMWzIvzSo_wm0fleACZvFMvVAAAA&sa=X&ved=2ahUKEwiY36C6jZL9AhX5rlYBHQTNB2AQs9oBKAV6BAg8EAc', 'serpapi_link': 'https://serpapi.com/search.json?device=desktop&engine=google&gl=us&google_domain=google.com&hl=en&q=Launchpad&stick=H4sIAAAAAAAAAOOQUeLUz9U3sLAozik0Ei1KLchXyMgvLsnMS1coTi0qy0xOLY7iSytKTVVIzyxRSM7JL005xcgN0mJoZBpvkmZwipELxDPNrTArMINyjAoMSlIKTjHy6qfrGxqm5ZkaJadXZUMlC3LT0pPKTzEi7IVKmKQbZCeX_2IUDcLmigYWxkWsnD6JpXnJGQWJKbfYJBmaBKQkXFYbdXju_2_JVMWzIvzSo_wm0fleACZvFMvVAAAA'}], 'see_more_link': 'https://www.google.com/search?ucbcb=1&gl=us&q=Repo+hosting+services&stick=H4sIAAAAAAAAAOOQMRItSi3IV8jILy7JzEtXKE4tKstMTi2O4ksrSk1VSM8sUUjOyS9NOcXIrZ-rb2BoZBpvkmZwipELxDPNrTArMINyjAoMSlIKTjHy6qfrGxqm5ZkaJadXZUMlC3LT0pPKTzFygjgWFsU5hVAJk3SD7OTyX4yiQdhc0cDCuIgVu9QtNkmGJgEpCZfVRh2e-_9bMlXxrAi_9Ci_SXS-FwADgvMo1gAAAA&sa=X&ved=2ahUKEwiY36C6jZL9AhX5rlYBHQTNB2AQ4qYDegQIPBAI', 'see_more_serpapi_link': 'https://serpapi.com/search.json?device=desktop&engine=google&gl=us&google_domain=google.com&hl=en&q=Repo+hosting+services&stick=H4sIAAAAAAAAAOOQMRItSi3IV8jILy7JzEtXKE4tKstMTi2O4ksrSk1VSM8sUUjOyS9NOcXIrZ-rb2BoZBpvkmZwipELxDPNrTArMINyjAoMSlIKTjHy6qfrGxqm5ZkaJadXZUMlC3LT0pPKTzFygjgWFsU5hVAJk3SD7OTyX4yiQdhc0cDCuIgVu9QtNkmGJgEpCZfVRh2e-_9bMlXxrAi_9Ci_SXS-FwADgvMo1gAAAA'}], 'related_questions': [{'question': 'Is Git storage free?', 'snippet': 'Every account using Git Large File Storage receives 1 GB of free storage and 1 GB a month of free bandwidth. If the bandwidth and storage quotas are not enough, you can choose to purchase an additional quota for Git LFS.', 'title': 'About storage and bandwidth usage - GitHub Docs', 'link': 'https://docs.github.com/en/repositories/working-with-files/managing-large-files/about-storage-and-bandwidth-usage#:~:text=Every%20account%20using%20Git%20Large,additional%20quota%20for%20Git%20LFS.', 'displayed_link': 'https://docs.github.com › managing-large-files › about-sto...', 'next_page_token': 'eyJvbnMiOiIxMDA0MSIsImZjIjoiRW9zQkNreEJRMUIzYW1wVWFVZHhkamQ2Y0VneFNsbFZUVVpqV2w5RVVGOW9Wa2s0VGw5dk9YRnVZV1pHUlZkQk4zVnZWazU0TXpCSlNuazFWMlUxUzNSVU9UTmZXWGt0ZFhsYVgxUXlhV2MzRWhkTVgycHdXVGxwVEU1UWJtUXljbTlRYUVweFptZEJXUm9pUVVaZk5rMUJUWEZCYlVOak0zWTBkRWRhTlRoS2N6bDZORmROUkRORFRFTlNRUSIsImZjdiI6IjMiLCJlaSI6IkxfanBZOWlMTlBuZDJyb1BoSnFmZ0FZIiwicWMiOiJDZzVtY21WbElHZHBkQ0JqYkc5MVpCQUFmWlAzSno4IiwicXVlc3Rpb24iOiJJcyBHaXQgc3RvcmFnZSBmcmVlPyIsImxrIjoiR2hOcGN5Qm5hWFFnYzNSdmNtRm5aU0JtY21WbCIsImJzIjoiYy1PUzVCTHhMRlp3enl4UktDN0pMMHBNVDFWSUswcE50WmY0emNXbHdDVWRucEdabktHUVdRd1dCS3NxS01vdnkweEpMYktYZUduRmhkQmNVSlJabGxnQzAzeVhuVXVHUzl3bFB4VW9tWi1mbnBPcWtKRllscXFRQ0ZKcUx6R05UNEFSQUEiLCJpZCI6ImZjXzEifQ==', 'serpapi_link': 'https://serpapi.com/search.json?device=desktop&engine=google_related_questions&google_domain=google.com&next_page_token=eyJvbnMiOiIxMDA0MSIsImZjIjoiRW9zQkNreEJRMUIzYW1wVWFVZHhkamQ2Y0VneFNsbFZUVVpqV2w5RVVGOW9Wa2s0VGw5dk9YRnVZV1pHUlZkQk4zVnZWazU0TXpCSlNuazFWMlUxUzNSVU9UTmZXWGt0ZFhsYVgxUXlhV2MzRWhkTVgycHdXVGxwVEU1UWJtUXljbTlRYUVweFptZEJXUm9pUVVaZk5rMUJUWEZCYlVOak0zWTBkRWRhTlRoS2N6bDZORmROUkRORFRFTlNRUSIsImZjdiI6IjMiLCJlaSI6IkxfanBZOWlMTlBuZDJyb1BoSnFmZ0FZIiwicWMiOiJDZzVtY21WbElHZHBkQ0JqYkc5MVpCQUFmWlAzSno4IiwicXVlc3Rpb24iOiJJcyBHaXQgc3RvcmFnZSBmcmVlPyIsImxrIjoiR2hOcGN5Qm5hWFFnYzNSdmNtRm5aU0JtY21WbCIsImJzIjoiYy1PUzVCTHhMRlp3enl4UktDN0pMMHBNVDFWSUswcE50WmY0emNXbHdDVWRucEdabktHUVdRd1dCS3NxS01vdnkweEpMYktYZUduRmhkQmNVSlJabGxnQzAzeVhuVXVHUzl3bFB4VW9tWi1mbnBPcWtKRllscXFRQ0ZKcUx6R05UNEFSQUEiLCJpZCI6ImZjXzEifQ%3D%3D'}, {'question': 'Which is free Git provider?', 'snippet': 'GitHub is a free open-source and clean interface with the powerful and useful features that a developer can leverage on. GitHub becomes the go-to hosting platform for projects using Git. Integrated issue and bug tracking.', 'title': 'Top 10 best Git hosting solutions and services in 2021', 'date': 'Sep 1, 2021', 'link': 'https://www.devopsschool.com/blog/top-5-git-hosting-solutions/#:~:text=GitHub%20is%20a%20free%20open,platform%20for%20projects%20using%20Git.&text=Integrated%20issue%20and%20bug%20tracking.', 'displayed_link': 'https://www.devopsschool.com › blog › top-5-git-hosti...', 'next_page_token': 'eyJvbnMiOiIxMDA0MSIsImZjIjoiRW9zQkNreEJRMUIzYW1wVWFVZHhkamQ2Y0VneFNsbFZUVVpqV2w5RVVGOW9Wa2s0VGw5dk9YRnVZV1pHUlZkQk4zVnZWazU0TXpCSlNuazFWMlUxUzNSVU9UTmZXWGt0ZFhsYVgxUXlhV2MzRWhkTVgycHdXVGxwVEU1UWJtUXljbTlRYUVweFptZEJXUm9pUVVaZk5rMUJUWEZCYlVOak0zWTBkRWRhTlRoS2N6bDZORmROUkRORFRFTlNRUSIsImZjdiI6IjMiLCJlaSI6IkxfanBZOWlMTlBuZDJyb1BoSnFmZ0FZIiwicWMiOiJDZzVtY21WbElHZHBkQ0JqYkc5MVpCQUFmWlAzSno4IiwicXVlc3Rpb24iOiJXaGljaCBpcyBmcmVlIEdpdCBwcm92aWRlcj8iLCJsayI6IkdoRm1jbVZsSUdkcGRDQndjbTkyYVdSbGNnIiwiYnMiOiJjLU9TNUJMeExGWnd6eXhSS0M3SkwwcE1UMVZJSzBwTnRaZjR6Y1dsd0NVZG5wR1puS0dRV1F3V0JLc3FLTW92eTB4SkxiS1hlR25GaGRCY1VKUlpsbGdDMDN5WG5VdUdTOXdsUHhVb21aLWZucE9xa0pGWWxxcVFDRkpxTHpHTlQ0QVJBQSIsImlkIjoiZmNfMSJ9', 'serpapi_link': 'https://serpapi.com/search.json?device=desktop&engine=google_related_questions&google_domain=google.com&next_page_token=eyJvbnMiOiIxMDA0MSIsImZjIjoiRW9zQkNreEJRMUIzYW1wVWFVZHhkamQ2Y0VneFNsbFZUVVpqV2w5RVVGOW9Wa2s0VGw5dk9YRnVZV1pHUlZkQk4zVnZWazU0TXpCSlNuazFWMlUxUzNSVU9UTmZXWGt0ZFhsYVgxUXlhV2MzRWhkTVgycHdXVGxwVEU1UWJtUXljbTlRYUVweFptZEJXUm9pUVVaZk5rMUJUWEZCYlVOak0zWTBkRWRhTlRoS2N6bDZORmROUkRORFRFTlNRUSIsImZjdiI6IjMiLCJlaSI6IkxfanBZOWlMTlBuZDJyb1BoSnFmZ0FZIiwicWMiOiJDZzVtY21WbElHZHBkQ0JqYkc5MVpCQUFmWlAzSno4IiwicXVlc3Rpb24iOiJXaGljaCBpcyBmcmVlIEdpdCBwcm92aWRlcj8iLCJsayI6IkdoRm1jbVZsSUdkcGRDQndjbTkyYVdSbGNnIiwiYnMiOiJjLU9TNUJMeExGWnd6eXhSS0M3SkwwcE1UMVZJSzBwTnRaZjR6Y1dsd0NVZG5wR1puS0dRV1F3V0JLc3FLTW92eTB4SkxiS1hlR25GaGRCY1VKUlpsbGdDMDN5WG5VdUdTOXdsUHhVb21aLWZucE9xa0pGWWxxcVFDRkpxTHpHTlQ0QVJBQSIsImlkIjoiZmNfMSJ9'}, {'question': 'Is Git private free?', 'snippet': 'Both private and public hosting available. Packages are free for public repositories. Review new code, see visual code changes, and confidently merge code changes with automated status checks.', 'title': 'Pricing · Plans for every developer - GitHub', 'link': 'https://github.com/pricing#:~:text=in%20other%20projects.-,Both%20private%20and%20public%20hosting%20available,are%20free%20for%20public%20repositories.&text=Review%20new%20code%2C%20see%20visual,changes%20with%20automated%20status%20checks.', 'displayed_link': 'https://github.com › pricing', 'next_page_token': 'eyJvbnMiOiIxMDA0MSIsImZjIjoiRW9zQkNreEJRMUIzYW1wVWFVZHhkamQ2Y0VneFNsbFZUVVpqV2w5RVVGOW9Wa2s0VGw5dk9YRnVZV1pHUlZkQk4zVnZWazU0TXpCSlNuazFWMlUxUzNSVU9UTmZXWGt0ZFhsYVgxUXlhV2MzRWhkTVgycHdXVGxwVEU1UWJtUXljbTlRYUVweFptZEJXUm9pUVVaZk5rMUJUWEZCYlVOak0zWTBkRWRhTlRoS2N6bDZORmROUkRORFRFTlNRUSIsImZjdiI6IjMiLCJlaSI6IkxfanBZOWlMTlBuZDJyb1BoSnFmZ0FZIiwicWMiOiJDZzVtY21WbElHZHBkQ0JqYkc5MVpCQUFmWlAzSno4IiwicXVlc3Rpb24iOiJJcyBHaXQgcHJpdmF0ZSBmcmVlPyIsImxrIjoiR2hOcGN5Qm5hWFFnY0hKcGRtRjBaU0JtY21WbCIsImJzIjoiYy1PUzVCTHhMRlp3enl4UktDN0pMMHBNVDFWSUswcE50WmY0emNXbHdDVWRucEdabktHUVdRd1dCS3NxS01vdnkweEpMYktYZUduRmhkQmNVSlJabGxnQzAzeVhuVXVHUzl3bFB4VW9tWi1mbnBPcWtKRllscXFRQ0ZKcUx6R05UNEFSQUEiLCJpZCI6ImZjXzEifQ==', 'serpapi_link': 'https://serpapi.com/search.json?device=desktop&engine=google_related_questions&google_domain=google.com&next_page_token=eyJvbnMiOiIxMDA0MSIsImZjIjoiRW9zQkNreEJRMUIzYW1wVWFVZHhkamQ2Y0VneFNsbFZUVVpqV2w5RVVGOW9Wa2s0VGw5dk9YRnVZV1pHUlZkQk4zVnZWazU0TXpCSlNuazFWMlUxUzNSVU9UTmZXWGt0ZFhsYVgxUXlhV2MzRWhkTVgycHdXVGxwVEU1UWJtUXljbTlRYUVweFptZEJXUm9pUVVaZk5rMUJUWEZCYlVOak0zWTBkRWRhTlRoS2N6bDZORmROUkRORFRFTlNRUSIsImZjdiI6IjMiLCJlaSI6IkxfanBZOWlMTlBuZDJyb1BoSnFmZ0FZIiwicWMiOiJDZzVtY21WbElHZHBkQ0JqYkc5MVpCQUFmWlAzSno4IiwicXVlc3Rpb24iOiJJcyBHaXQgcHJpdmF0ZSBmcmVlPyIsImxrIjoiR2hOcGN5Qm5hWFFnY0hKcGRtRjBaU0JtY21WbCIsImJzIjoiYy1PUzVCTHhMRlp3enl4UktDN0pMMHBNVDFWSUswcE50WmY0emNXbHdDVWRucEdabktHUVdRd1dCS3NxS01vdnkweEpMYktYZUduRmhkQmNVSlJabGxnQzAzeVhuVXVHUzl3bFB4VW9tWi1mbnBPcWtKRllscXFRQ0ZKcUx6R05UNEFSQUEiLCJpZCI6ImZjXzEifQ%3D%3D'}, {'question': 'Does Google have a Git?', 'snippet': 'Cloud Source Repositories are private Git repositories hosted on Google Cloud. These repositories let you develop and deploy an app or service in a space that provides collaboration and version control for your code.', 'title': 'Quickstart: Create a code repository in Cloud Source Repositories', 'link': 'https://cloud.google.com/source-repositories/docs/create-code-repository#:~:text=Cloud%20Source%20Repositories%20are%20private,version%20control%20for%20your%20code.', 'displayed_link': 'https://cloud.google.com › source-repositories › docs › cr...', 'next_page_token': 'eyJvbnMiOiIxMDA0MSIsImZjIjoiRW9zQkNreEJRMUIzYW1wVWFVZHhkamQ2Y0VneFNsbFZUVVpqV2w5RVVGOW9Wa2s0VGw5dk9YRnVZV1pHUlZkQk4zVnZWazU0TXpCSlNuazFWMlUxUzNSVU9UTmZXWGt0ZFhsYVgxUXlhV2MzRWhkTVgycHdXVGxwVEU1UWJtUXljbTlRYUVweFptZEJXUm9pUVVaZk5rMUJUWEZCYlVOak0zWTBkRWRhTlRoS2N6bDZORmROUkRORFRFTlNRUSIsImZjdiI6IjMiLCJlaSI6IkxfanBZOWlMTlBuZDJyb1BoSnFmZ0FZIiwicWMiOiJDZzVtY21WbElHZHBkQ0JqYkc5MVpCQUFmWlAzSno4IiwicXVlc3Rpb24iOiJEb2VzIEdvb2dsZSBoYXZlIGEgR2l0PyIsImxrIjoiR2haa2IyVnpJR2R2YjJkc1pTQm9ZWFpsSUdFZ1oybDAiLCJicyI6ImMtT1M1Qkx4TEZad3p5eFJLQzdKTDBwTVQxVklLMHBOdFpmNHpjV2x3Q1VkbnBHWm5LR1FXUXdXQktzcUtNb3Z5MHhKTGJLWGVHbkZoZEJjVUpSWmxsZ0MwM3lYblV1R1M5d2xQeFVvbVotZm5wT3FrSkZZbHFxUUNGSnFMekdOVDRBUkFBIiwiaWQiOiJmY18xIn0=', 'serpapi_link': 'https://serpapi.com/search.json?device=desktop&engine=google_related_questions&google_domain=google.com&next_page_token=eyJvbnMiOiIxMDA0MSIsImZjIjoiRW9zQkNreEJRMUIzYW1wVWFVZHhkamQ2Y0VneFNsbFZUVVpqV2w5RVVGOW9Wa2s0VGw5dk9YRnVZV1pHUlZkQk4zVnZWazU0TXpCSlNuazFWMlUxUzNSVU9UTmZXWGt0ZFhsYVgxUXlhV2MzRWhkTVgycHdXVGxwVEU1UWJtUXljbTlRYUVweFptZEJXUm9pUVVaZk5rMUJUWEZCYlVOak0zWTBkRWRhTlRoS2N6bDZORmROUkRORFRFTlNRUSIsImZjdiI6IjMiLCJlaSI6IkxfanBZOWlMTlBuZDJyb1BoSnFmZ0FZIiwicWMiOiJDZzVtY21WbElHZHBkQ0JqYkc5MVpCQUFmWlAzSno4IiwicXVlc3Rpb24iOiJEb2VzIEdvb2dsZSBoYXZlIGEgR2l0PyIsImxrIjoiR2haa2IyVnpJR2R2YjJkc1pTQm9ZWFpsSUdFZ1oybDAiLCJicyI6ImMtT1M1Qkx4TEZad3p5eFJLQzdKTDBwTVQxVklLMHBOdFpmNHpjV2x3Q1VkbnBHWm5LR1FXUXdXQktzcUtNb3Z5MHhKTGJLWGVHbkZoZEJjVUpSWmxsZ0MwM3lYblV1R1M5d2xQeFVvbVotZm5wT3FrSkZZbHFxUUNGSnFMekdOVDRBUkFBIiwiaWQiOiJmY18xIn0%3D'}], 'organic_results': [{'position': 1, 'title': '6 places to host your git repository - Opensource.com', 'link': 'https://opensource.com/article/18/8/github-alternatives', 'displayed_link': 'https://opensource.com › article › github-alternatives', 'date': 'Aug 30, 2018', 'snippet': '6 places to host your git repository · Option 1: GitHub. Seriously, this is a valid option. · Option 2: GitLab. GitLab is probably the leading ...', 'snippet_highlighted_words': ['git', 'GitLab', 'GitLab'], 'sitelinks': {'inline': [{'title': 'Option 1: Github', 'link': 'https://opensource.com/article/18/8/github-alternatives#:~:text=Option%201%3A%20GitHub'}, {'title': 'Option 2: Gitlab', 'link': 'https://opensource.com/article/18/8/github-alternatives#:~:text=Option%202%3A%20GitLab'}, {'title': 'Option 5: Roll Your Own', 'link': 'https://opensource.com/article/18/8/github-alternatives#:~:text=Option%205%3A%20Roll%20your%20own'}]}, 'about_this_result': {'source': {'description': 'opensource.com was first indexed by Google more than 10 years ago', 'source_info_link': 'https://opensource.com/article/18/8/github-alternatives', 'security': 'secure', 'icon': 'https://serpapi.com/searches/63e9f82ad5a531b7621ac076/images/dea020dba9924c44aa340756ceef73bd8f22dd55bf181b0b64295d19232ac5aa2675782e4b19ba1eb2c3825531f96118.png'}}, 'about_page_link': 'https://www.google.com/search?q=About+https://opensource.com/article/18/8/github-alternatives&tbm=ilp&ilps=AB_Lh3qV81mpzul055QlvqP3mudQy6lXxA', 'about_page_serpapi_link': 'https://serpapi.com/search.json?engine=google_about_this_result&google_domain=google.com&ilps=AB_Lh3qV81mpzul055QlvqP3mudQy6lXxA&q=About+https%3A%2F%2Fopensource.com%2Farticle%2F18%2F8%2Fgithub-alternatives', 'cached_page_link': 'https://webcache.googleusercontent.com/search?q=cache:uroABc3MxO4J:https://opensource.com/article/18/8/github-alternatives&cd=1&hl=en&ct=clnk&gl=us'}, {'position': 2, 'title': 'Bitbucket | Git solution for teams using Jira', 'link': 'https://bitbucket.org/product', 'displayed_link': 'https://bitbucket.org › product', 'snippet': 'Bitbucket Cloud is a Git-based code and CI/CD tool optimized for teams using Jira.', 'snippet_highlighted_words': ['Cloud', 'Git'], 'sitelinks': {'inline': [{'title': 'Open and close the navigation menu', 'link': 'https://bitbucket.org/product/enterprise'}, {'title': 'Why Bitbucket', 'link': 'https://bitbucket.org/product/features/pipelines'}, {'title': 'Product Guide', 'link': 'https://bitbucket.org/product/guides'}, {'title': 'Pricing', 'link': 'https://bitbucket.org/product/pricing'}]}, 'about_this_result': {'source': {'description': 'Bitbucket is a Git-based source code repository hosting service owned by Atlassian. Bitbucket offers both commercial plans and free accounts with an unlimited number of private repositories.', 'source_info_link': 'https://bitbucket.org/product', 'security': 'secure', 'icon': 'https://serpapi.com/searches/63e9f82ad5a531b7621ac076/images/dea020dba9924c44aa340756ceef73bdd9c7d24473338087858b90c02a4d01c6accfe23812fb32323a3d9b14e089a3d0.png'}}, 'about_page_link': 'https://www.google.com/search?q=About+https://bitbucket.org/&tbm=ilp&ilps=AB_Lh3pw3BvrugemqNEQsyeQWlbVjxILPg', 'about_page_serpapi_link': 'https://serpapi.com/search.json?engine=google_about_this_result&google_domain=google.com&ilps=AB_Lh3pw3BvrugemqNEQsyeQWlbVjxILPg&q=About+https%3A%2F%2Fbitbucket.org%2F', 'cached_page_link': 'https://webcache.googleusercontent.com/search?q=cache:nO-ukpgTxroJ:https://bitbucket.org/product&cd=2&hl=en&ct=clnk&gl=us', 'related_pages_link': 'https://www.google.com/search?ucbcb=1&gl=us&q=related:https://bitbucket.org/product+free+git+cloud'}, {'position': 3, 'title': 'Gitpod: Always ready to code.', 'link': 'https://www.gitpod.io/', 'displayed_link': 'https://www.gitpod.io', 'snippet': \"Gitpod is a cloud development environment for teams to efficiently and securely develop software. Improve your team's developer experience by coding in a ...\", 'snippet_highlighted_words': ['cloud'], 'sitelinks': {'inline': [{'title': 'CDE', 'link': 'https://www.gitpod.io/cde'}, {'title': 'Enterprise', 'link': 'https://www.gitpod.io/for/enterprise'}, {'title': 'Customers', 'link': 'https://www.gitpod.io/customers'}, {'title': 'Pricing', 'link': 'https://www.gitpod.io/pricing'}]}, 'about_this_result': {'source': {'description': 'gitpod.io was first indexed by Google in March 2018', 'source_info_link': 'https://www.gitpod.io/', 'security': 'secure', 'icon': 'https://serpapi.com/searches/63e9f82ad5a531b7621ac076/images/dea020dba9924c44aa340756ceef73bd420f7b200d7483f03cdc70fd2c35fcd7b2ad0e8cea536bd3d92fdf4e7745bfaa.png'}}, 'about_page_link': 'https://www.google.com/search?q=About+https://www.gitpod.io/&tbm=ilp&ilps=AB_Lh3pqpRRZuRTTj-QtlJGodNu9HTuxhA', 'about_page_serpapi_link': 'https://serpapi.com/search.json?engine=google_about_this_result&google_domain=google.com&ilps=AB_Lh3pqpRRZuRTTj-QtlJGodNu9HTuxhA&q=About+https%3A%2F%2Fwww.gitpod.io%2F', 'cached_page_link': 'https://webcache.googleusercontent.com/search?q=cache:aFYe_Xdq3doJ:https://www.gitpod.io/&cd=11&hl=en&ct=clnk&gl=us'}, {'position': 4, 'title': 'GitLab: The DevSecOps Platform', 'link': 'https://about.gitlab.com/', 'displayed_link': 'https://about.gitlab.com', 'snippet': 'Software. Faster. From planning to production, GitLab brings teams together to shorten cycle times, reduce costs, strengthen security, and increase ...', 'snippet_highlighted_words': ['GitLab'], 'about_this_result': {'source': {'description': 'GitLab Inc. is an open-core company that operates GitLab, a DevOps software package which can develop, secure, and operate software. The open source software project was created by Ukrainian developer Dmitriy Zaporozhets and Dutch developer Sytse Sijbrandij.', 'source_info_link': 'https://about.gitlab.com/', 'security': 'secure', 'icon': 'https://serpapi.com/searches/63e9f82ad5a531b7621ac076/images/dea020dba9924c44aa340756ceef73bde7b61b7d072216d45eb68bd23932a1418ef9702d50d07eae465a342a9284fe8d.png'}}, 'about_page_link': 'https://www.google.com/search?q=About+https://about.gitlab.com/&tbm=ilp&ilps=AB_Lh3qVAlDQKKGeeyzwMAvCRdTmXLQv5A', 'about_page_serpapi_link': 'https://serpapi.com/search.json?engine=google_about_this_result&google_domain=google.com&ilps=AB_Lh3qVAlDQKKGeeyzwMAvCRdTmXLQv5A&q=About+https%3A%2F%2Fabout.gitlab.com%2F'}, {'position': 5, 'title': \"GitHub: Let's build from here · GitHub\", 'link': 'https://github.com/', 'displayed_link': 'https://github.com', 'snippet': 'GitHub is where over 100 million developers shape the future of software, together. Contribute to the open source community, manage your Git repositories, ...', 'snippet_highlighted_words': ['Git'], 'sitelinks': {'inline': [{'title': 'Pricing', 'link': 'https://github.com/pricing'}, {'title': 'Sign in to GitHub', 'link': 'https://github.com/login'}, {'title': 'Set up Git', 'link': 'https://docs.github.com/en/get-started/quickstart/set-up-git'}, {'title': 'Product', 'link': 'https://github.com/features/actions'}]}, 'about_this_result': {'source': {'description': 'GitHub, Inc. is an Internet hosting service for software development and version control using Git. It provides the distributed version control of Git plus access control, bug tracking, software feature requests, task management, continuous integration, and wikis for every project.', 'source_info_link': 'https://github.com/', 'security': 'secure', 'icon': 'https://serpapi.com/searches/63e9f82ad5a531b7621ac076/images/dea020dba9924c44aa340756ceef73bdd5b9e733237cc4549eeae247ecc033d1bf2f0d9acf679a12f92c9a94d31e0767.png'}}, 'about_page_link': 'https://www.google.com/search?q=About+https://github.com/&tbm=ilp&ilps=AB_Lh3qyGQ2f_C947rWsyvWDDCCE1eOnLQ', 'about_page_serpapi_link': 'https://serpapi.com/search.json?engine=google_about_this_result&google_domain=google.com&ilps=AB_Lh3qyGQ2f_C947rWsyvWDDCCE1eOnLQ&q=About+https%3A%2F%2Fgithub.com%2F', 'cached_page_link': 'https://webcache.googleusercontent.com/search?q=cache:SZgkdCZ5k2sJ:https://github.com/&cd=13&hl=en&ct=clnk&gl=us', 'related_pages_link': 'https://www.google.com/search?ucbcb=1&gl=us&q=related:https://github.com/+free+git+cloud'}, {'position': 6, 'title': '14 Git Hosting Services Compared | Tower Blog', 'link': 'https://www.git-tower.com/blog/git-hosting-services-compared/', 'displayed_link': 'https://www.git-tower.com › blog › git-hosting-services...', 'snippet': \"Amazon AWS CodeCommit. Amazon's AWS platform includes hosting for Git repositories. · Assembla. Assembla has a long history in the business with its Subversion ...\", 'snippet_highlighted_words': ['Git'], 'about_this_result': {'source': {'description': 'git-tower.com was first indexed by Google more than 10 years ago', 'source_info_link': 'https://www.git-tower.com/blog/git-hosting-services-compared/', 'security': 'secure', 'icon': 'https://serpapi.com/searches/63e9f82ad5a531b7621ac076/images/dea020dba9924c44aa340756ceef73bd4299856dd5286a40fb593d7d742ee8a0d0c52c2ab3ab20402dae91c521ce4e5f.png'}}, 'about_page_link': 'https://www.google.com/search?q=About+https://www.git-tower.com/blog/git-hosting-services-compared/&tbm=ilp&ilps=AB_Lh3oUrKC7vgAdqo_uSyMMpHlFWWfK1g', 'about_page_serpapi_link': 'https://serpapi.com/search.json?engine=google_about_this_result&google_domain=google.com&ilps=AB_Lh3oUrKC7vgAdqo_uSyMMpHlFWWfK1g&q=About+https%3A%2F%2Fwww.git-tower.com%2Fblog%2Fgit-hosting-services-compared%2F', 'cached_page_link': 'https://webcache.googleusercontent.com/search?q=cache:nRnBMV8qsZkJ:https://www.git-tower.com/blog/git-hosting-services-compared/&cd=14&hl=en&ct=clnk&gl=us', 'related_pages_link': 'https://www.google.com/search?ucbcb=1&gl=us&q=related:https://www.git-tower.com/blog/git-hosting-services-compared/+free+git+cloud'}, {'position': 7, 'title': 'Top GitHub Alternatives to Host Your Open Source Projects', 'link': 'https://itsfoss.com/github-alternatives/', 'displayed_link': 'https://itsfoss.com › github-alternatives', 'snippet': '1. GitLab · 2. Bitbucket · 3. SourceForge · 4. Launchpad · 5. Google Cloud Source Repositories · 7. GitBucket (Self-Hosted) · 8. Gogs (Self-Hosted) · 9. Gitea (Self- ...', 'snippet_highlighted_words': ['GitLab', 'Cloud', 'GitBucket'], 'sitelinks': {'inline': [{'title': '1. Gitlab', 'link': 'https://itsfoss.com/github-alternatives/#:~:text=.-,1.%20GitLab'}, {'title': '2. Bitbucket', 'link': 'https://itsfoss.com/github-alternatives/#:~:text=.-,2.%20Bitbucket'}, {'title': '3. Sourceforge', 'link': 'https://itsfoss.com/github-alternatives/#:~:text=.-,3.%20SourceForge'}]}, 'about_this_result': {'source': {'description': 'itsfoss.com was first indexed by Google more than 10 years ago', 'source_info_link': 'https://itsfoss.com/github-alternatives/', 'security': 'secure', 'icon': 'https://serpapi.com/searches/63e9f82ad5a531b7621ac076/images/dea020dba9924c44aa340756ceef73bd096b97e04b06c678ac0708d22a6d3c347c8013a63423560c085d7232c471ada1.png'}}, 'about_page_link': 'https://www.google.com/search?q=About+https://itsfoss.com/github-alternatives/&tbm=ilp&ilps=AB_Lh3qxUoIqV8SRVyE6yVCSHZFUFfizMg', 'about_page_serpapi_link': 'https://serpapi.com/search.json?engine=google_about_this_result&google_domain=google.com&ilps=AB_Lh3qxUoIqV8SRVyE6yVCSHZFUFfizMg&q=About+https%3A%2F%2Fitsfoss.com%2Fgithub-alternatives%2F', 'cached_page_link': 'https://webcache.googleusercontent.com/search?q=cache:hOM9hTPolKEJ:https://itsfoss.com/github-alternatives/&cd=15&hl=en&ct=clnk&gl=us'}, {'position': 8, 'title': 'Git', 'link': 'https://git-scm.com/', 'displayed_link': 'https://git-scm.com', 'snippet': 'Git is a free and open source distributed version control system designed to handle everything from small to very large projects with speed and efficiency.', 'snippet_highlighted_words': ['Git', 'free'], 'about_this_result': {'source': {'description': 'Git is a distributed version control system that tracks changes in any set of computer files, usually used for coordinating work among programmers collaboratively developing source code during software development. Its goals include speed, data integrity, and support for distributed, non-linear workflows.', 'source_info_link': 'https://git-scm.com/', 'security': 'secure', 'icon': 'https://serpapi.com/searches/63e9f82ad5a531b7621ac076/images/dea020dba9924c44aa340756ceef73bdc13b810a60f958bfeae87c0e5fc19a0360bbfc1b76dc082892544593a53c7360.png'}}, 'about_page_link': 'https://www.google.com/search?q=About+https://git-scm.com/&tbm=ilp&ilps=AB_Lh3o9scEd5L6Xs9azjV14b75qomD_NA', 'about_page_serpapi_link': 'https://serpapi.com/search.json?engine=google_about_this_result&google_domain=google.com&ilps=AB_Lh3o9scEd5L6Xs9azjV14b75qomD_NA&q=About+https%3A%2F%2Fgit-scm.com%2F', 'cached_page_link': 'https://webcache.googleusercontent.com/search?q=cache:8wtA6r8r9WkJ:https://git-scm.com/&cd=16&hl=en&ct=clnk&gl=us', 'related_pages_link': 'https://www.google.com/search?ucbcb=1&gl=us&q=related:https://git-scm.com/+free+git+cloud'}, {'position': 9, 'title': 'Top 10 best Git hosting solutions and services in 2021', 'link': 'https://www.devopsschool.com/blog/top-5-git-hosting-solutions/', 'displayed_link': 'https://www.devopsschool.com › blog › top-5-git-hosti...', 'date': 'Sep 1, 2021', 'snippet': 'Free for 5 users – you can get an unlimited number of free private ... provides private and unlimited Git repository hosting in the cloud.', 'snippet_highlighted_words': ['Free', 'free', 'Git', 'cloud'], 'sitelinks': {'inline': [{'title': 'Aws Codecommit Pros', 'link': 'https://www.devopsschool.com/blog/top-5-git-hosting-solutions/#:~:text=AWS%20CodeCommit%20Pros%3A'}, {'title': 'Codebase Pros', 'link': 'https://www.devopsschool.com/blog/top-5-git-hosting-solutions/#:~:text=Codebase%20Pros%3A'}, {'title': 'Gerrit Pros', 'link': 'https://www.devopsschool.com/blog/top-5-git-hosting-solutions/#:~:text=Gerrit%20Pros'}]}, 'about_this_result': {'source': {'description': 'devopsschool.com was first indexed by Google in May 2013', 'source_info_link': 'https://www.devopsschool.com/blog/top-5-git-hosting-solutions/', 'security': 'secure', 'icon': 'https://serpapi.com/searches/63e9f82ad5a531b7621ac076/images/dea020dba9924c44aa340756ceef73bdc8d50747c900a926c07a4327bdb201a241b1035e7f456196f5981b6f19c09e4f.png'}}, 'about_page_link': 'https://www.google.com/search?q=About+https://www.devopsschool.com/blog/top-5-git-hosting-solutions/&tbm=ilp&ilps=AB_Lh3ojMg5UMeepReEBkm8iT2ubJUChbw', 'about_page_serpapi_link': 'https://serpapi.com/search.json?engine=google_about_this_result&google_domain=google.com&ilps=AB_Lh3ojMg5UMeepReEBkm8iT2ubJUChbw&q=About+https%3A%2F%2Fwww.devopsschool.com%2Fblog%2Ftop-5-git-hosting-solutions%2F', 'cached_page_link': 'https://webcache.googleusercontent.com/search?q=cache:7C2fdl6h4LcJ:https://www.devopsschool.com/blog/top-5-git-hosting-solutions/&cd=17&hl=en&ct=clnk&gl=us'}, {'position': 10, 'title': '15 Best Github Alternatives in 2023 - Guru99', 'link': 'https://www.guru99.com/github-alternative.html', 'displayed_link': 'https://www.guru99.com › github-alternative', 'date': 'Feb 2, 2023', 'snippet': \"TaraVault is Inflectra's free cloud-based source code management solution for enterprises and teams of all sizes. · Bitbucket is version control ...\", 'snippet_highlighted_words': ['free cloud'], 'sitelinks': {'inline': [{'title': '1) Taravault', 'link': 'https://www.guru99.com/github-alternative.html#:~:text=1%29%20TaraVault'}, {'title': '2) Bitbucket', 'link': 'https://www.guru99.com/github-alternative.html#:~:text=2%29%20Bitbucket'}, {'title': '3) Sourceforge', 'link': 'https://www.guru99.com/github-alternative.html#:~:text=3%29%20SourceForge'}]}, 'about_this_result': {'source': {'description': 'guru99.com was first indexed by Google more than 10 years ago', 'source_info_link': 'https://www.guru99.com/github-alternative.html', 'security': 'secure', 'icon': 'https://serpapi.com/searches/63e9f82ad5a531b7621ac076/images/dea020dba9924c44aa340756ceef73bd79240f1a620c9ae1f6ced8dd654357d729f8677ab9efdb78c991cfb73a160102.png'}}, 'about_page_link': 'https://www.google.com/search?q=About+https://www.guru99.com/github-alternative.html&tbm=ilp&ilps=AB_Lh3rVezZkC6wJoVcEfWSwd1Bhxq1XvA', 'about_page_serpapi_link': 'https://serpapi.com/search.json?engine=google_about_this_result&google_domain=google.com&ilps=AB_Lh3rVezZkC6wJoVcEfWSwd1Bhxq1XvA&q=About+https%3A%2F%2Fwww.guru99.com%2Fgithub-alternative.html', 'cached_page_link': 'https://webcache.googleusercontent.com/search?q=cache:s0nz-0NwVdUJ:https://www.guru99.com/github-alternative.html&cd=18&hl=en&ct=clnk&gl=us'}], 'related_searches': [{'query': 'free git server', 'link': 'https://www.google.com/search?ucbcb=1&gl=us&q=Free+Git+server&sa=X&ved=2ahUKEwiY36C6jZL9AhX5rlYBHQTNB2AQ1QJ6BAhOEAE'}, {'query': 'github', 'link': 'https://www.google.com/search?ucbcb=1&gl=us&q=GitHub&sa=X&ved=2ahUKEwiY36C6jZL9AhX5rlYBHQTNB2AQ1QJ6BAhQEAE'}, {'query': 'gitpod', 'link': 'https://www.google.com/search?ucbcb=1&gl=us&q=Gitpod&sa=X&ved=2ahUKEwiY36C6jZL9AhX5rlYBHQTNB2AQ1QJ6BAhREAE'}, {'query': 'gitlab', 'link': 'https://www.google.com/search?ucbcb=1&gl=us&q=GitLab&sa=X&ved=2ahUKEwiY36C6jZL9AhX5rlYBHQTNB2AQ1QJ6BAhTEAE'}, {'query': 'bitbucket', 'link': 'https://www.google.com/search?ucbcb=1&gl=us&q=Bitbucket&sa=X&ved=2ahUKEwiY36C6jZL9AhX5rlYBHQTNB2AQ1QJ6BAhWEAE'}, {'query': 'free git repository private', 'link': 'https://www.google.com/search?ucbcb=1&gl=us&q=Free+Git+repository+private&sa=X&ved=2ahUKEwiY36C6jZL9AhX5rlYBHQTNB2AQ1QJ6BAhXEAE'}, {'query': 'bitbucket cloud', 'link': 'https://www.google.com/search?ucbcb=1&gl=us&q=Bitbucket+Cloud&sa=X&ved=2ahUKEwiY36C6jZL9AhX5rlYBHQTNB2AQ1QJ6BAhUEAE'}, {'query': 'git hosting websites', 'link': 'https://www.google.com/search?ucbcb=1&gl=us&q=Git+hosting+websites&sa=X&ved=2ahUKEwiY36C6jZL9AhX5rlYBHQTNB2AQ1QJ6BAhZEAE'}], 'pagination': {'current': 1, 'next': 'https://www.google.com/search?q=free+git+cloud&oq=free+git+cloud&gl=us&start=10&sourceid=chrome&ie=UTF-8', 'other_pages': {'2': 'https://www.google.com/search?q=free+git+cloud&oq=free+git+cloud&gl=us&start=10&sourceid=chrome&ie=UTF-8', '3': 'https://www.google.com/search?q=free+git+cloud&oq=free+git+cloud&gl=us&start=20&sourceid=chrome&ie=UTF-8', '4': 'https://www.google.com/search?q=free+git+cloud&oq=free+git+cloud&gl=us&start=30&sourceid=chrome&ie=UTF-8', '5': 'https://www.google.com/search?q=free+git+cloud&oq=free+git+cloud&gl=us&start=40&sourceid=chrome&ie=UTF-8'}}, 'serpapi_pagination': {'current': 1, 'next_link': 'https://serpapi.com/search.json?device=desktop&engine=google&gl=us&google_domain=google.com&hl=en&q=free+git+cloud&start=10', 'next': 'https://serpapi.com/search.json?device=desktop&engine=google&gl=us&google_domain=google.com&hl=en&q=free+git+cloud&start=10', 'other_pages': {'2': 'https://serpapi.com/search.json?device=desktop&engine=google&gl=us&google_domain=google.com&hl=en&q=free+git+cloud&start=10', '3': 'https://serpapi.com/search.json?device=desktop&engine=google&gl=us&google_domain=google.com&hl=en&q=free+git+cloud&start=20', '4': 'https://serpapi.com/search.json?device=desktop&engine=google&gl=us&google_domain=google.com&hl=en&q=free+git+cloud&start=30', '5': 'https://serpapi.com/search.json?device=desktop&engine=google&gl=us&google_domain=google.com&hl=en&q=free+git+cloud&start=40'}}}\n",
      "<class 'dict'>\n"
     ]
    }
   ],
   "source": [
    "import json\n",
    "\n",
    "# Opening JSON file\n",
    "with open('sample.json', 'r') as openfile:\n",
    "    # Reading from json file\n",
    "    js = json.load(openfile)\n",
    "\n",
    "print(js)\n",
    "print(type(js))"
   ],
   "metadata": {
    "collapsed": false
   }
  },
  {
   "cell_type": "code",
   "execution_count": 35,
   "id": "450a610f-c121-4781-8719-1dcfd4892625",
   "metadata": {},
   "outputs": [],
   "source": [
    "def is_rel(resp_url):\n",
    "    # TODO your code here\n",
    "    for link in rel_bucket:\n",
    "        if link in resp_url:\n",
    "            return True\n",
    "    return False"
   ]
  },
  {
   "cell_type": "markdown",
   "id": "5c3c2ea8-19c1-44b5-8fc2-fa4e23182dae",
   "metadata": {},
   "source": [
    "## 2.3. Automation\n",
    "\n",
    "Get search results from the automation tool you use."
   ]
  },
  {
   "cell_type": "code",
   "execution_count": 36,
   "id": "434e58a5-77a8-4d54-a495-8540361f6df7",
   "metadata": {},
   "outputs": [
    {
     "name": "stdout",
     "output_type": "stream",
     "text": [
      "1 6 places to host your git repository - Opensource.com\n",
      "https://opensource.com/article/18/8/github-alternatives\n",
      "False\n",
      "\n",
      "2 Bitbucket | Git solution for teams using Jira\n",
      "https://bitbucket.org/product\n",
      "False\n",
      "\n",
      "3 Gitpod: Always ready to code.\n",
      "https://www.gitpod.io/\n",
      "True\n",
      "\n",
      "4 GitLab: The DevSecOps Platform\n",
      "https://about.gitlab.com/\n",
      "True\n",
      "\n",
      "5 GitHub: Let's build from here · GitHub\n",
      "https://github.com/\n",
      "True\n",
      "\n",
      "6 14 Git Hosting Services Compared | Tower Blog\n",
      "https://www.git-tower.com/blog/git-hosting-services-compared/\n",
      "True\n",
      "\n",
      "7 Top GitHub Alternatives to Host Your Open Source Projects\n",
      "https://itsfoss.com/github-alternatives/\n",
      "False\n",
      "\n",
      "8 Git\n",
      "https://git-scm.com/\n",
      "True\n",
      "\n",
      "9 Top 10 best Git hosting solutions and services in 2021\n",
      "https://www.devopsschool.com/blog/top-5-git-hosting-solutions/\n",
      "False\n",
      "\n",
      "10 15 Best Github Alternatives in 2023 - Guru99\n",
      "https://www.guru99.com/github-alternative.html\n",
      "False\n",
      "\n"
     ]
    }
   ],
   "source": [
    "rels = []\n",
    "\n",
    "# Your code here\n",
    "for result in js[\"organic_results\"]:\n",
    "    print(result['position'], result['title'])\n",
    "    print(result['link'])\n",
    "    print(is_rel(result['link']))\n",
    "    rels.append(int(is_rel(result['link'])))\n",
    "    print()"
   ]
  },
  {
   "cell_type": "code",
   "execution_count": 37,
   "id": "70849db7-918b-4b17-b045-3a5a06927936",
   "metadata": {},
   "outputs": [
    {
     "data": {
      "text/plain": "[0, 0, 1, 1, 1, 1, 0, 1, 0, 0]"
     },
     "execution_count": 37,
     "metadata": {},
     "output_type": "execute_result"
    }
   ],
   "source": [
    "rels"
   ]
  },
  {
   "cell_type": "markdown",
   "source": [
    "[Resource I found](https://gist.github.com/bwhite/3726239)"
   ],
   "metadata": {
    "collapsed": false
   }
  },
  {
   "cell_type": "markdown",
   "id": "285eb724-2188-45d3-be78-cffb91bacee8",
   "metadata": {},
   "source": [
    "## 2.4. MRR\n",
    "\n",
    "Compute MRR:"
   ]
  },
  {
   "cell_type": "code",
   "execution_count": 42,
   "id": "33c40e3b-24d2-4c7b-860e-d543c1281f01",
   "metadata": {},
   "outputs": [],
   "source": [
    "def mrr(list_of_lists, k=10):\n",
    "    # todo your code here\n",
    "    rel = 0\n",
    "    for lst in list_of_lists:\n",
    "        if 1 not in lst:\n",
    "            rel += 1 / (k + 1)\n",
    "        else:\n",
    "            rel += 1 / (lst.index(1) + 1)\n",
    "\n",
    "    mean_rel = rel/len(list_of_lists)\n",
    "    return mean_rel"
   ]
  },
  {
   "cell_type": "code",
   "execution_count": 43,
   "id": "e64c4e28-9ae7-4715-96a2-adfa13c5b00b",
   "metadata": {},
   "outputs": [
    {
     "data": {
      "text/plain": "0.3333333333333333"
     },
     "execution_count": 43,
     "metadata": {},
     "output_type": "execute_result"
    }
   ],
   "source": [
    "mrr([rels]) # BTW, why do I wrap the list into additional brackets? :)"
   ]
  },
  {
   "cell_type": "markdown",
   "id": "d644d32d-3d15-4d81-b3b5-396af0e85dd1",
   "metadata": {},
   "source": [
    "## 2.5. Precision\n",
    "Compute mean precision:"
   ]
  },
  {
   "cell_type": "code",
   "execution_count": 44,
   "id": "5be58a4a-deeb-48cd-9f81-cae0be9a8493",
   "metadata": {},
   "outputs": [],
   "source": [
    "def mp(list_of_lists, k=10):\n",
    "    # todo your code here\n",
    "    prec = 0\n",
    "    for lst in list_of_lists:\n",
    "        prec += sum(lst) / k\n",
    "\n",
    "    mean_prec = prec/len(list_of_lists)\n",
    "    return mean_prec"
   ]
  },
  {
   "cell_type": "code",
   "execution_count": 45,
   "id": "1d3fbb74-9b3d-46a2-98d9-4a8894c8e8b7",
   "metadata": {},
   "outputs": [
    {
     "data": {
      "text/plain": "0.5"
     },
     "execution_count": 45,
     "metadata": {},
     "output_type": "execute_result"
    }
   ],
   "source": [
    "mp([rels])"
   ]
  }
 ],
 "metadata": {
  "kernelspec": {
   "display_name": "Python 3 (ipykernel)",
   "language": "python",
   "name": "python3"
  },
  "language_info": {
   "codemirror_mode": {
    "name": "ipython",
    "version": 3
   },
   "file_extension": ".py",
   "mimetype": "text/x-python",
   "name": "python",
   "nbconvert_exporter": "python",
   "pygments_lexer": "ipython3",
   "version": "3.10.6"
  }
 },
 "nbformat": 4,
 "nbformat_minor": 5
}
